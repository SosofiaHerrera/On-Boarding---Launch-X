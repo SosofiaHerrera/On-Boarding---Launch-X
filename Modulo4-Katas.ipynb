{
 "cells": [
  {
   "cell_type": "markdown",
   "metadata": {},
   "source": [
    "## Ejercicio 1: Transformar cadenas"
   ]
  },
  {
   "cell_type": "code",
   "execution_count": 12,
   "metadata": {},
   "outputs": [
    {
     "name": "stdout",
     "output_type": "stream",
     "text": [
      "TEXT\n",
      "Interesting facts about the Moon. \n",
      "The Moon is Earth's only satellite. \n",
      "There are several interesting facts about the Moon and how it affects life here on Earth. \n",
      "On average, the Moon moves 4cm away from the Earth every year. \n",
      "This yearly drift is not significant enough to cause immediate effects on Earth. \n",
      "The highest daylight temperature of the Moon is 127 C.\n",
      "\n",
      "Facts about the Moon:\n",
      "On average, the Moon moves 4cm away from the Earth every year. \n",
      "The highest daylight temperature of the Moon is 127 C.\n",
      "\n",
      "'C' - 'Celsius'\n",
      "The highest daylight temperature of the Moon is 127 Celsius.\n"
     ]
    }
   ],
   "source": [
    "print(\"TEXT\")\n",
    "\n",
    "text = \"Interesting facts about the Moon. \\nThe Moon is Earth's only satellite. \\nThere are several interesting facts about the Moon and how it affects life here on Earth. \\nOn average, the Moon moves 4cm away from the Earth every year. \\nThis yearly drift is not significant enough to cause immediate effects on Earth. \\nThe highest daylight temperature of the Moon is 127 C.\"\n",
    "\n",
    "text.split('\\n')\n",
    "print(text)\n",
    "\n",
    "keywords = ['average', 'temperature', 'distance']\n",
    "\n",
    "print('\\nFacts about the Moon:')\n",
    "for sentence in text.split('\\n'):\n",
    "    for keyword in keywords:\n",
    "        if keyword in sentence:\n",
    "            print(sentence)\n",
    "            break\n",
    "\n",
    "print(\"\\n'C' - 'Celsius'\")\n",
    "for sentence in text.split('\\n'):\n",
    "    for keyword in keywords:\n",
    "        if 'C' in sentence:\n",
    "            print(sentence.replace('C', 'Celsius'))\n",
    "            break"
   ]
  },
  {
   "cell_type": "markdown",
   "metadata": {},
   "source": [
    "## Ejercicio 2: Formateando cadenas"
   ]
  },
  {
   "cell_type": "code",
   "execution_count": 40,
   "metadata": {},
   "outputs": [
    {
     "name": "stdout",
     "output_type": "stream",
     "text": [
      "The gravity in the Earth and Moon\n",
      "--------------------------------------------------\n",
      "Planet name: Earth\n",
      "Gravity on Moon: 1.6199999999999999 m/s2\n",
      "\n",
      "The Gravity In The Earth And Moon\n",
      "--------------------------------------------------\n",
      "Planet name: Earth\n",
      "Gravity on Moon: 1.6199999999999999 m/s2\n",
      "\n",
      "\n",
      "----New template----\n",
      "\n",
      "\n",
      "Facts about the gravity Ganímedes\n",
      "------------------\n",
      "Planet name: Mars\n",
      "Gravity on Ganímedes: 1.4300000000000002 m/s2\n",
      "\n"
     ]
    }
   ],
   "source": [
    "name = 'Moon'\n",
    "gravity = 0.00162\n",
    "planet = 'Earth'\n",
    "\n",
    "title = f'The gravity in the {planet.title()} and {name.title()}'\n",
    "print(title)\n",
    "\n",
    "facts = f\"\"\"{'-'*50}\n",
    "Planet name: {planet}\n",
    "Gravity on {name}: {gravity * 1000} m/s2\n",
    "\"\"\"\n",
    "print(facts)\n",
    "\n",
    "template = f\"\"\"{title.title()}\n",
    "{facts}\n",
    "\"\"\"\n",
    "print(template)\n",
    "\n",
    "print(\"----New template----\")\n",
    "\n",
    "planet = 'Mars'\n",
    "gravity = 0.00143\n",
    "name = 'Ganímedes'\n",
    "newtempl = \"\"\"\n",
    "\n",
    "Facts about the gravity {name}\n",
    "------------------\n",
    "Planet name: {planet}\n",
    "Gravity on {name}: {gravity} m/s2\n",
    "\"\"\"\n",
    "\n",
    "print(newtempl.format(name = name, planet = planet, gravity = gravity * 1000))"
   ]
  }
 ],
 "metadata": {
  "interpreter": {
   "hash": "94dfd0829861ea723591b3001b7b8d6efd29c21741fffd6b6a162c01382c010b"
  },
  "kernelspec": {
   "display_name": "Python 3.10.2 64-bit",
   "language": "python",
   "name": "python3"
  },
  "language_info": {
   "codemirror_mode": {
    "name": "ipython",
    "version": 3
   },
   "file_extension": ".py",
   "mimetype": "text/x-python",
   "name": "python",
   "nbconvert_exporter": "python",
   "pygments_lexer": "ipython3",
   "version": "3.10.2"
  },
  "orig_nbformat": 4
 },
 "nbformat": 4,
 "nbformat_minor": 2
}
