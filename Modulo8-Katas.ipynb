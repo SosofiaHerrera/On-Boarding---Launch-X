{
 "cells": [
  {
   "cell_type": "markdown",
   "metadata": {},
   "source": [
    "## Ejercicio 1: Creación de diccionarios de Python\n"
   ]
  },
  {
   "cell_type": "code",
   "execution_count": 34,
   "metadata": {},
   "outputs": [
    {
     "name": "stdout",
     "output_type": "stream",
     "text": [
      "Planets:  {'Name': 'Mars', 'Moons': 2}\n",
      "Mars has 2 moons\n",
      "Mars has a polar circumference of 6752\n"
     ]
    }
   ],
   "source": [
    "planets = {'Name': 'Mars', 'Moons' : 2}\n",
    "print('Planets: ', planets)\n",
    "\n",
    "facts = f'{planets[\"Name\"]} has {planets[\"Moons\"]} moons'\n",
    "print(facts)\n",
    "\n",
    "planets['Circumference'] = {'Polar' : 6752, 'Equatorial' : 6792}\n",
    "\n",
    "facts2 = f'{planets[\"Name\"]} has a polar circumference of {planets[\"Circumference\"][\"Polar\"]}' \n",
    "print(facts2)"
   ]
  },
  {
   "cell_type": "markdown",
   "metadata": {},
   "source": [
    "## Ejercicio 2: Programación dinámica con diccionarios\n"
   ]
  },
  {
   "cell_type": "code",
   "execution_count": 40,
   "metadata": {},
   "outputs": [
    {
     "name": "stdout",
     "output_type": "stream",
     "text": [
      "Average number of moons on planets: 17.833333333333332\n"
     ]
    }
   ],
   "source": [
    "planets_moons = {'Mercury' : 0, 'Venus' : 0, 'Earth' : 1, 'Mars' : 2, 'Jupiter' : 79, 'Saturn' : 82, 'Uranus' : 27, 'Neptune' : 14, 'Pluto' : 5, 'Haumea' : 2, 'Makemake' : 1, 'Eris' : 1}\n",
    "\n",
    "moons = planets_moons.values()\n",
    "\n",
    "planets = len(planets_moons.keys())\n",
    "\n",
    "total_moons = 0\n",
    "for moon in moons:\n",
    "    total_moons = total_moons + moon\n",
    "\n",
    "average = total_moons / planets\n",
    "print('Average number of moons on planets:', average)"
   ]
  }
 ],
 "metadata": {
  "interpreter": {
   "hash": "94dfd0829861ea723591b3001b7b8d6efd29c21741fffd6b6a162c01382c010b"
  },
  "kernelspec": {
   "display_name": "Python 3.10.2 64-bit",
   "language": "python",
   "name": "python3"
  },
  "language_info": {
   "codemirror_mode": {
    "name": "ipython",
    "version": 3
   },
   "file_extension": ".py",
   "mimetype": "text/x-python",
   "name": "python",
   "nbconvert_exporter": "python",
   "pygments_lexer": "ipython3",
   "version": "3.10.2"
  },
  "orig_nbformat": 4
 },
 "nbformat": 4,
 "nbformat_minor": 2
}
