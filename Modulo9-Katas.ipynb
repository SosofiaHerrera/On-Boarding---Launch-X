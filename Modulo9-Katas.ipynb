{
 "cells": [
  {
   "cell_type": "markdown",
   "metadata": {},
   "source": [
    "## Ejercicio: Uso de funciones en Python"
   ]
  },
  {
   "cell_type": "code",
   "execution_count": 13,
   "metadata": {},
   "outputs": [
    {
     "name": "stdout",
     "output_type": "stream",
     "text": [
      "El promedio de los 3 tanques de combustible:  86.66666666666667\n"
     ]
    }
   ],
   "source": [
    "def tanques (tanque1, tanque2, tanque3):\n",
    "    promedio = (tanque1 + tanque2 + tanque3) / 3\n",
    "    print('El promedio de los 3 tanques de combustible: ', promedio)\n",
    "\n",
    "tanques (80, 90, 90)"
   ]
  },
  {
   "cell_type": "code",
   "execution_count": 14,
   "metadata": {},
   "outputs": [
    {
     "name": "stdout",
     "output_type": "stream",
     "text": [
      "86.66666666666667\n"
     ]
    }
   ],
   "source": [
    "def promedio(values):\n",
    "    total = sum(values)\n",
    "    numero = len(values)\n",
    "    print(total / numero)\n",
    "\n",
    "promedio([80, 90, 90])"
   ]
  },
  {
   "cell_type": "code",
   "execution_count": 25,
   "metadata": {},
   "outputs": [
    {
     "name": "stdout",
     "output_type": "stream",
     "text": [
      "Reporte completo:\n",
      "Promedio total:  86.66666666666667\n",
      "Tanque 1: 80\n",
      "Tanque 2: 90\n",
      "Tanque 3: 90\n"
     ]
    }
   ],
   "source": [
    "def tanques(tanque1, tanque2, tanque3):\n",
    "    print('Reporte completo:')\n",
    "    print('Promedio total: ', (tanque1 + tanque2 + tanque3) / 3 )\n",
    "    print('Tanque 1:', tanque1)\n",
    "    print('Tanque 2:', tanque2)\n",
    "    print('Tanque 3:', tanque3)\n",
    "\n",
    "tanques (80, 90, 90)"
   ]
  },
  {
   "cell_type": "markdown",
   "metadata": {},
   "source": [
    "## Ejercicio 2 - Trabajo con argumentos de palabra clave"
   ]
  },
  {
   "cell_type": "code",
   "execution_count": 6,
   "metadata": {},
   "outputs": [
    {
     "name": "stdout",
     "output_type": "stream",
     "text": [
      "Misión a  la Luna\n",
      "Tiempo total de vuelo: 65 minutos\n",
      "Total de combustible utilizado: 500000 galones\n"
     ]
    }
   ],
   "source": [
    "def mision (Hora_Lanzamiento, Tiempo_Vuelo, Destino, Tanque_Externo, Tanque_Interno):\n",
    "    print('Misión a ', Destino)\n",
    "    Total_vuelo = (Hora_Lanzamiento + Tiempo_Vuelo)\n",
    "    print('Tiempo total de vuelo: {} minutos'.format(Total_vuelo)) \n",
    "    Total_combustible = Tanque_Externo + Tanque_Interno\n",
    "    print('Total de combustible utilizado: {} galones'.format(Total_combustible)) \n",
    "\n",
    "mision(14, 51, \"la Luna\", 200000, 300000)"
   ]
  },
  {
   "cell_type": "code",
   "execution_count": 13,
   "metadata": {},
   "outputs": [
    {
     "name": "stdout",
     "output_type": "stream",
     "text": [
      "Misión a  la Luna\n",
      "Tiempo total de vuelo: 76 minutos\n",
      "Total de combustible utilizado: 500000 galones\n"
     ]
    }
   ],
   "source": [
    "def mision2(Destino, *minutos, **Depositos_Combus):\n",
    "    print('Misión a ', Destino)\n",
    "    print('Tiempo total de vuelo: {} minutos'.format (sum(minutos))) \n",
    "    print('Total de combustible utilizado: {} galones'.format (sum(Depositos_Combus.values()))) \n",
    "\n",
    "mision2(\"la Luna\", 10, 15, 51, Tanque_Interno = 300000, Tanque_Externo =200000)"
   ]
  },
  {
   "cell_type": "code",
   "execution_count": 22,
   "metadata": {},
   "outputs": [
    {
     "name": "stdout",
     "output_type": "stream",
     "text": [
      "Misión a  Moon\n",
      "Tiempo total de vuelo: 74 minutos\n",
      "Total de combustible utilizado: 500000 galones\n",
      "Tanque_Interno\n",
      "300000\n",
      "Tanque_Externo\n",
      "200000\n"
     ]
    }
   ],
   "source": [
    "def mision3(Destino, *minutos, **Depositos_Combus):\n",
    "    print('Misión a ', Destino)\n",
    "    print('Tiempo total de vuelo: {} minutos'.format (sum(minutos))) \n",
    "    print('Total de combustible utilizado: {} galones'.format (sum(Depositos_Combus.values())))\n",
    "\n",
    "    for tanques, galones in Depositos_Combus.items():\n",
    "        print(tanques)\n",
    "        print(galones)\n",
    "\n",
    "mision3(\"Moon\", 8, 11, 55, Tanque_Interno = 300000, Tanque_Externo =200000)"
   ]
  }
 ],
 "metadata": {
  "interpreter": {
   "hash": "94dfd0829861ea723591b3001b7b8d6efd29c21741fffd6b6a162c01382c010b"
  },
  "kernelspec": {
   "display_name": "Python 3.10.2 64-bit",
   "language": "python",
   "name": "python3"
  },
  "language_info": {
   "codemirror_mode": {
    "name": "ipython",
    "version": 3
   },
   "file_extension": ".py",
   "mimetype": "text/x-python",
   "name": "python",
   "nbconvert_exporter": "python",
   "pygments_lexer": "ipython3",
   "version": "3.10.2"
  },
  "orig_nbformat": 4
 },
 "nbformat": 4,
 "nbformat_minor": 2
}
