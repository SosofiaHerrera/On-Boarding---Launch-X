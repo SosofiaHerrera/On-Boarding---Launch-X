{
 "cells": [
  {
   "cell_type": "markdown",
   "metadata": {},
   "source": [
    "## Ejercicio - Escribir declaraciones if, else y elif\n",
    "\n",
    "### Problema 1: \n",
    " Imprima una advertencia si un asteroide se acerca a la Tierra demasiado rápido. La velocidad del asteroide varía dependiendo de lo cerca que esté del sol, y cualquier velocidad superior a 25 kilómetros por segundo (km/s) merece una advertencia.\n",
    " \n",
    " Un asteroide se acerca, y viaja a una velocidad de 49 km/s."
   ]
  },
  {
   "cell_type": "code",
   "execution_count": 2,
   "metadata": {},
   "outputs": [
    {
     "name": "stdout",
     "output_type": "stream",
     "text": [
      "\n",
      "¡ADVERTENCIA! Se acerca un asteroide\n"
     ]
    }
   ],
   "source": [
    "asteroide = 49\n",
    "\n",
    "if (asteroide > 25):\n",
    "    print(\"\\n¡ADVERTENCIA! Se acerca un asteroide\")\n",
    "else:\n",
    "    print(\"\\nTodo está bien:)\")"
   ]
  },
  {
   "cell_type": "code",
   "execution_count": null,
   "metadata": {},
   "outputs": [],
   "source": [
    "asteroide = input(\"Ingrese la velocidad del asteroide: \")\n",
    "\n",
    "if (asteroide > 25):\n",
    "    print(\"\\n¡ADVERTENCIA! Se acerca un asteroide\")\n",
    "else:\n",
    "    print(\"\\nTodo está bien:)\")"
   ]
  },
  {
   "cell_type": "markdown",
   "metadata": {},
   "source": [
    "### Problema 2:\n",
    "\n",
    "Si un asteroide entra en la atmósfera de la Tierra a una velocidad mayor o igual a 20 km/s, a veces produce un rayo de luz que se puede ver desde la Tierra. \n",
    "\n",
    "Escribe la lógica condicional que usa declaraciones if, else, y elif para alertar a las personas de todo el mundo que deben buscar un asteroide en el cielo. ¡Hay uno que se dirige a la tierra ahora a una velocidad de 19 km/s!"
   ]
  },
  {
   "cell_type": "code",
   "execution_count": 6,
   "metadata": {},
   "outputs": [
    {
     "name": "stdout",
     "output_type": "stream",
     "text": [
      "Tranquilx, todo está bien:)\n"
     ]
    }
   ],
   "source": [
    "asteroide = 19\n",
    "\n",
    "if (asteroide > 20):\n",
    "    print(\"¡MIRA AL CIELO! Se verá una gran luz\")\n",
    "elif (asteroide == 20):\n",
    "    print(\"¡MIRA AL CIELO! Se verá una gran luz\")\n",
    "else:\n",
    "    print(\"Tranquilx, todo está bien:)\")"
   ]
  },
  {
   "cell_type": "code",
   "execution_count": null,
   "metadata": {},
   "outputs": [],
   "source": [
    "asteroide = input(\"Ingrese la velocidad del asteroide: \")\n",
    "\n",
    "if (asteroide > 20):\n",
    "    print(\"¡MIRA AL CIELO! Se verá una gran luz\")\n",
    "elif (asteroide == 20):\n",
    "    print(\"¡MIRA AL CIELO! Se verá una gran luz\")\n",
    "else:\n",
    "    print(\"Tranquilx, todo está bien:)\")"
   ]
  },
  {
   "cell_type": "markdown",
   "metadata": {},
   "source": [
    "## Ejercicio: Uso de los operadores and y or"
   ]
  },
  {
   "cell_type": "code",
   "execution_count": null,
   "metadata": {},
   "outputs": [],
   "source": [
    "velocidad = input(\"Ingrese la velocidad del asteroide: \")\n",
    "tamaño = input(\"Ingrese el tamaño del asteroide: \")\n",
    "\n",
    "if ((tamaño > 25) and (tamaño < 1000))and (velocidad > 25):\n",
    "    print(\"\\n¡ADVERTENCIA! Se acerca un asteroide muy peligroso\")\n",
    "elif (velocidad >= 20):\n",
    "    print(\"¡MIRA AL CIELO! Se verá una gran luz\")\n",
    "else:\n",
    "    print(\"Tranquilx, todo está bien:)\")"
   ]
  },
  {
   "cell_type": "code",
   "execution_count": 9,
   "metadata": {},
   "outputs": [
    {
     "name": "stdout",
     "output_type": "stream",
     "text": [
      "¡ADVERTENCIA! Se acerca un asteroide muy peligroso\n"
     ]
    }
   ],
   "source": [
    "velocidad = 49\n",
    "tamaño = 78\n",
    "\n",
    "if ((tamaño > 25) and (tamaño < 1000))and (velocidad > 25):\n",
    "    print(\"¡ADVERTENCIA! Se acerca un asteroide muy peligroso\")\n",
    "elif (velocidad >= 20):\n",
    "    print(\"¡MIRA AL CIELO! Se verá una gran luz\")\n",
    "else:\n",
    "    print(\"Tranquilx, todo está bien:)\")"
   ]
  }
 ],
 "metadata": {
  "interpreter": {
   "hash": "94dfd0829861ea723591b3001b7b8d6efd29c21741fffd6b6a162c01382c010b"
  },
  "kernelspec": {
   "display_name": "Python 3.10.2 64-bit",
   "language": "python",
   "name": "python3"
  },
  "language_info": {
   "codemirror_mode": {
    "name": "ipython",
    "version": 3
   },
   "file_extension": ".py",
   "mimetype": "text/x-python",
   "name": "python",
   "nbconvert_exporter": "python",
   "pygments_lexer": "ipython3",
   "version": "3.10.2"
  },
  "orig_nbformat": 4
 },
 "nbformat": 4,
 "nbformat_minor": 2
}
