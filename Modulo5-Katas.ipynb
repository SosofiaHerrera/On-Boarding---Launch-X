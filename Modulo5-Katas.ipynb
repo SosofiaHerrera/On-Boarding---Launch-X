{
 "cells": [
  {
   "cell_type": "markdown",
   "metadata": {},
   "source": [
    "## Ejercicio 1: Utilizar operadores aritméticos "
   ]
  },
  {
   "cell_type": "code",
   "execution_count": 9,
   "metadata": {},
   "outputs": [
    {
     "name": "stdout",
     "output_type": "stream",
     "text": [
      "Distancia entre la Tierra y Jupiter en kilometros:  628949330\n",
      "Distancia en millas entre la Tierra y Jupiter:  390577533.93\n"
     ]
    }
   ],
   "source": [
    "tierra = 149597870\n",
    "jupiter = 778547200\n",
    "\n",
    "distancia_km = jupiter - tierra\n",
    "print('Distancia entre la Tierra y Jupiter en kilometros: ', distancia_km)\n",
    "\n",
    "distancia_mi = distancia_km * 0.621\n",
    "print('Distancia en millas entre la Tierra y Jupiter: ', distancia_mi)"
   ]
  },
  {
   "cell_type": "markdown",
   "metadata": {},
   "source": [
    "## Ejercicio 2: Convertir cadenas en números y usa valores absolutos."
   ]
  },
  {
   "cell_type": "code",
   "execution_count": null,
   "metadata": {},
   "outputs": [],
   "source": [
    "planeta_uno = input('Ingrese la distancia del Sol hacia el primer planeta: ')\n",
    "planeta_dos = input('Ingrese la distancia del Sol hacia el segundo planeta: ')\n",
    "\n",
    "planeta_uno_int = int(planeta_uno)\n",
    "planeta_dos_int = int(planeta_dos)\n",
    "\n",
    "distancia_km = planeta_uno - planeta_dos\n",
    "print('Distancia entre los dos planetas en kilometros: ', distancia_km)\n",
    "\n",
    "distancia_mi = distancia_km * 0.621\n",
    "print('Distancia en millas entre los dos planetas: ', (abs(distancia_mi)))"
   ]
  },
  {
   "cell_type": "code",
   "execution_count": 12,
   "metadata": {},
   "outputs": [
    {
     "name": "stdout",
     "output_type": "stream",
     "text": [
      "Distancia entre los dos planetas en kilometros:  -628949330\n",
      "Distancia en millas entre los dos planetas:  390577533.93\n"
     ]
    }
   ],
   "source": [
    "planeta_uno = 149597870\n",
    "planeta_dos = 778547200\n",
    "\n",
    "planeta_uno_int = int(planeta_uno)\n",
    "planeta_dos_int = int(planeta_dos)\n",
    "\n",
    "distancia_km = planeta_uno - planeta_dos\n",
    "print('Distancia entre los dos planetas en kilometros: ', distancia_km)\n",
    "\n",
    "distancia_mi = distancia_km * 0.621\n",
    "print('Distancia en millas entre los dos planetas: ', (abs(distancia_mi)))"
   ]
  }
 ],
 "metadata": {
  "interpreter": {
   "hash": "94dfd0829861ea723591b3001b7b8d6efd29c21741fffd6b6a162c01382c010b"
  },
  "kernelspec": {
   "display_name": "Python 3.10.2 64-bit",
   "language": "python",
   "name": "python3"
  },
  "language_info": {
   "codemirror_mode": {
    "name": "ipython",
    "version": 3
   },
   "file_extension": ".py",
   "mimetype": "text/x-python",
   "name": "python",
   "nbconvert_exporter": "python",
   "pygments_lexer": "ipython3",
   "version": "3.10.2"
  },
  "orig_nbformat": 4
 },
 "nbformat": 4,
 "nbformat_minor": 2
}
