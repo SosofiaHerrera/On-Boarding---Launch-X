{
 "cells": [
  {
   "cell_type": "markdown",
   "metadata": {},
   "source": [
    "## Ejercicio 1: Crear y usar listas de Python"
   ]
  },
  {
   "cell_type": "code",
   "execution_count": 11,
   "metadata": {},
   "outputs": [
    {
     "name": "stdout",
     "output_type": "stream",
     "text": [
      "Planetas:  ['Tierra', 'Júpiter', 'Marte', 'Mercurio', 'Venus', 'Saturno', 'Urano', 'Neptuno']\n",
      "\n",
      "Planetas + 1: ['Tierra', 'Júpiter', 'Marte', 'Mercurio', 'Venus', 'Saturno', 'Urano', 'Neptuno', 'Pluto']\n",
      "Pluto es el último planeta\n"
     ]
    }
   ],
   "source": [
    "planetas = ['Tierra', 'Júpiter','Marte','Mercurio', 'Venus','Saturno', 'Urano','Neptuno']\n",
    "print('Planetas: ', planetas)\n",
    "\n",
    "planetas.append('Pluto')\n",
    "print('\\nPlanetas + 1:', planetas)\n",
    "\n",
    "print(planetas[-1], 'es el último planeta')"
   ]
  },
  {
   "cell_type": "markdown",
   "metadata": {},
   "source": [
    "## Ejercicio 2: Trabajando con datos de una lista\n"
   ]
  },
  {
   "cell_type": "code",
   "execution_count": 21,
   "metadata": {},
   "outputs": [
    {
     "name": "stdout",
     "output_type": "stream",
     "text": [
      "Planetas:  ['Mercury', 'Venus', 'Earth', 'Mars', 'Jupiter', 'Saturn', 'Neptune']\n",
      "Planetas (nueva lista):  ['Mercury', 'Venus', 'Earth', 'Mars', 'Jupiter', 'Saturn', 'Neptune', 'Urano']\n",
      "Los planetas que están más cerca de Urano\n",
      "['Mercury', 'Venus', 'Earth', 'Mars', 'Jupiter', 'Saturn', 'Neptune']\n",
      "Los planetas que están más lejos de Urano\n",
      "[]\n"
     ]
    }
   ],
   "source": [
    "planetas = ['Mercury', 'Venus', 'Earth', 'Mars', 'Jupiter', 'Saturn', 'Neptune']\n",
    "print('Planetas: ', planetas)\n",
    "\n",
    "nuevo_planeta = 'Urano'\n",
    "planetas.append(nuevo_planeta)\n",
    "print('Planetas (nueva lista): ', planetas)\n",
    "\n",
    "planeta_index = planetas.index(nuevo_planeta)\n",
    "\n",
    "print('Los planetas que están más cerca de ' + nuevo_planeta)\n",
    "print(planetas[0:planeta_index])\n",
    "\n",
    "print('Los planetas que están más lejos de ' + nuevo_planeta)\n",
    "print(planetas[planeta_index + 1:])"
   ]
  },
  {
   "cell_type": "code",
   "execution_count": null,
   "metadata": {},
   "outputs": [],
   "source": [
    "planetas = ['Mercury', 'Venus', 'Earth', 'Mars', 'Jupiter', 'Saturn', 'Neptune']\n",
    "print('Planetas: ', planetas)\n",
    "\n",
    "nuevo_planeta = input('Ingrese el nombre del nuevo planeta: ')\n",
    "planetas.append(nuevo_planeta)\n",
    "print('Planetas (nueva lista): ', planetas)\n",
    "\n",
    "planeta_index = planetas.index(nuevo_planeta)\n",
    "\n",
    "print('Los planetas que están más cerca de ' + nuevo_planeta)\n",
    "print(planetas[0:planeta_index])\n",
    "\n",
    "print('Los planetas que están más lejos de ' + nuevo_planeta)\n",
    "print(planetas[planeta_index + 1:])"
   ]
  }
 ],
 "metadata": {
  "interpreter": {
   "hash": "94dfd0829861ea723591b3001b7b8d6efd29c21741fffd6b6a162c01382c010b"
  },
  "kernelspec": {
   "display_name": "Python 3.10.2 64-bit",
   "language": "python",
   "name": "python3"
  },
  "language_info": {
   "codemirror_mode": {
    "name": "ipython",
    "version": 3
   },
   "file_extension": ".py",
   "mimetype": "text/x-python",
   "name": "python",
   "nbconvert_exporter": "python",
   "pygments_lexer": "ipython3",
   "version": "3.10.2"
  },
  "orig_nbformat": 4
 },
 "nbformat": 4,
 "nbformat_minor": 2
}
